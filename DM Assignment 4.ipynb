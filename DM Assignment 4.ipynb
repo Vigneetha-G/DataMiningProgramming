{
 "cells": [
  {
   "cell_type": "code",
   "execution_count": 1,
   "id": "c4708ff8-21d9-47a4-b14d-9e3b6ecd7d4e",
   "metadata": {},
   "outputs": [],
   "source": [
    "import os\n",
    "import cv2\n",
    "from PIL import Image\n",
    "import numpy as np\n",
    "import pandas as pd\n",
    "import torch\n",
    "import torchvision.transforms as transforms\n",
    "import torchvision.models as models\n",
    "from torch.autograd import Variable\n",
    "from sklearn.decomposition import PCA\n",
    "from sklearn.cluster import KMeans, SpectralClustering,BisectingKMeans\n",
    "from sklearn.metrics import fowlkes_mallows_score, silhouette_score\n",
    "from sklearn.cluster import AgglomerativeClustering\n",
    "from sklearn.cluster import DBSCAN\n",
    "\n",
    "import warnings\n",
    "warnings.filterwarnings(\"ignore\")"
   ]
  },
  {
   "cell_type": "code",
   "execution_count": 5,
   "id": "9256ac1e-d220-491a-b6ea-09e1d5252e3d",
   "metadata": {},
   "outputs": [],
   "source": [
    "image_dir='DMresizedimages'\n",
    "feature_model=models.resnet18(pretrained=True)\n",
    "feature_model=torch.nn.Sequential(*(list(feature_model.children())[:-1]))\n",
    "\n",
    "def process_image():\n",
    "    transform = transforms.Compose([\n",
    "    transforms.Resize((224, 224)),\n",
    "    transforms.ToTensor(),\n",
    "    transforms.Normalize(mean=[0.5, 0.5, 0.5], std=[0.5, 0.5, 0.5]),\n",
    "])\n",
    "    return transform\n",
    "\n",
    "X = []  \n",
    "Y = []  \n",
    "for image_filename in os.listdir(image_dir):\n",
    "    if image_filename.endswith(\".jpg\"):\n",
    "        image_path = os.path.join(image_dir, image_filename)\n",
    "        class_name = image_filename.split('_')[0]\n",
    "        img = Image.open(image_path).convert(\"RGB\")\n",
    "        t2 = process_image()\n",
    "        img=t2(img)\n",
    "        img=Variable(img.unsqueeze(0))\n",
    "        features = feature_model(img).squeeze().detach().numpy()\n",
    "        Y.append(class_name)\n",
    "        X.append(features)\n",
    "X = np.array(X)\n",
    "Y = np.array(Y)\n"
   ]
  },
  {
   "cell_type": "markdown",
   "id": "2f798519",
   "metadata": {},
   "source": [
    "References:1.https://stackoverflow.com/questions/55083642/extract-features-from-last-hidden-layer-pytorch-resnet18\n",
    "2.https://docs.python.org/3/library/os.html"
   ]
  },
  {
   "cell_type": "code",
   "execution_count": 7,
   "id": "59e956c7-b099-460e-9fa4-6ebcd365f156",
   "metadata": {},
   "outputs": [],
   "source": [
    "pca=PCA(2)\n",
    "pca_x=pca.fit_transform(X)"
   ]
  },
  {
   "cell_type": "markdown",
   "id": "2994476d",
   "metadata": {},
   "source": [
    "References:1.https://scikit-learn.org/stable/modules/generated/sklearn.decomposition.PCA.html"
   ]
  },
  {
   "cell_type": "code",
   "execution_count": 16,
   "id": "dab91bcf-691f-44b6-980e-a9d08523db89",
   "metadata": {},
   "outputs": [],
   "source": [
    "fowlkes_mallow=[]\n",
    "silhouette=[]\n",
    "kmeansr = KMeans(n_clusters=4, init='random', random_state=42)\n",
    "kmeansr_pred =kmeansr.fit_predict(pca_x)\n",
    "fowlkes_mallow.append(fowlkes_mallows_score(Y, kmeansr_pred))\n",
    "silhouette.append(silhouette_score(pca_x,kmeansr_pred))"
   ]
  },
  {
   "cell_type": "markdown",
   "id": "8f79f763",
   "metadata": {},
   "source": [
    "Reference:https://scikit-learn.org/stable/modules/generated/sklearn.cluster.KMeans.html#sklearn.cluster.KMeans"
   ]
  },
  {
   "cell_type": "code",
   "execution_count": 17,
   "id": "ad498431-9992-4d8f-b13d-5ce7d80e1f69",
   "metadata": {},
   "outputs": [],
   "source": [
    "# (b) KMeans with init='k-means++'\n",
    "kmeansplus= KMeans(n_clusters=4, init='k-means++', random_state=42)\n",
    "kmeansplus_pred = kmeansplus.fit_predict(pca_x)\n",
    "fowlkes_mallow.append(fowlkes_mallows_score(Y, kmeansplus_pred))\n",
    "silhouette.append(silhouette_score(pca_x,kmeansplus_pred))\n"
   ]
  },
  {
   "cell_type": "markdown",
   "id": "4abfe2e6",
   "metadata": {},
   "source": [
    "Reference:https://scikit-learn.org/stable/modules/clustering.html#k-means"
   ]
  },
  {
   "cell_type": "code",
   "execution_count": 19,
   "id": "5c10c040-269c-4411-a224-42ab19abee9d",
   "metadata": {},
   "outputs": [],
   "source": [
    "cluster = SpectralClustering(n_clusters=4, random_state=42)\n",
    "cluster_pred = cluster.fit_predict(pca_x)\n",
    "fowlkes_mallow.append(fowlkes_mallows_score(Y, cluster_pred))\n",
    "silhouette.append(silhouette_score(pca_x,cluster_pred))"
   ]
  },
  {
   "cell_type": "markdown",
   "id": "36562654",
   "metadata": {},
   "source": [
    "Reference:https://scikit-learn.org/stable/modules/generated/sklearn.cluster.SpectralClustering.html#sklearn.cluster.SpectralClustering"
   ]
  },
  {
   "cell_type": "code",
   "execution_count": 20,
   "id": "abad76fe-3be6-40e2-af34-ad233c39a38b",
   "metadata": {},
   "outputs": [],
   "source": [
    "bisecting = BisectingKMeans(n_clusters=4, init='random', random_state=42)\n",
    "bisecting_pred = bisecting.fit_predict(pca_x)\n",
    "fowlkes_mallow.append(fowlkes_mallows_score(Y, bisecting_pred))\n",
    "silhouette.append(silhouette_score(pca_x,bisecting_pred))"
   ]
  },
  {
   "cell_type": "markdown",
   "id": "605c0164",
   "metadata": {},
   "source": [
    "Reference:https://scikit-learn.org/stable/modules/generated/sklearn.cluster.BisectingKMeans.html#sklearn.cluster.BisectingKMeans"
   ]
  },
  {
   "cell_type": "code",
   "execution_count": 21,
   "id": "330d4173-c44d-497f-a12b-a4f3165304f9",
   "metadata": {},
   "outputs": [],
   "source": [
    "for link in ['single','complete','average','ward']:\n",
    "    model=AgglomerativeClustering(n_clusters=4, linkage= link)\n",
    "    model_pred=model.fit_predict(pca_x)\n",
    "    fowlkes_mallow.append(fowlkes_mallows_score(Y, model_pred))\n",
    "    silhouette.append(silhouette_score(pca_x,model_pred))"
   ]
  },
  {
   "cell_type": "markdown",
   "id": "c3c203e8",
   "metadata": {},
   "source": [
    "Reference:https://scikit-learn.org/stable/modules/generated/sklearn.cluster.AgglomerativeClustering.html#sklearn.cluster.AgglomerativeClustering"
   ]
  },
  {
   "cell_type": "code",
   "execution_count": 23,
   "id": "fb705298-a5c9-4b1d-bdfd-514f71fd7a29",
   "metadata": {},
   "outputs": [
    {
     "name": "stdout",
     "output_type": "stream",
     "text": [
      "Number of clusters : 4\n"
     ]
    }
   ],
   "source": [
    "dbscan = DBSCAN(eps=0.03, min_samples=15)\n",
    "dbscan_pred = dbscan.fit_predict(pca_x)\n",
    "clus = len(set(dbscan_pred)) - (1 if -1 in dbscan_pred else 0)\n",
    "print(f\"Number of clusters : {clus}\")\n",
    "fowlkes_mallow.append(fowlkes_mallows_score(Y, dbscan_pred))\n",
    "silhouette.append(silhouette_score(pca_x,dbscan_pred))"
   ]
  },
  {
   "cell_type": "markdown",
   "id": "77844c22",
   "metadata": {},
   "source": [
    "Reference:https://scikit-learn.org/stable/modules/generated/sklearn.cluster.DBSCAN.html#sklearn.cluster.DBSCAN"
   ]
  },
  {
   "cell_type": "code",
   "execution_count": 24,
   "id": "1ae8f4c2-93cb-4572-8eec-fda15699cb45",
   "metadata": {},
   "outputs": [],
   "source": [
    "methods=['Kmean-init','kmeans++','spectral-clustering','bisectingkmeans','single','complete','average','ward','dbscan']"
   ]
  },
  {
   "cell_type": "markdown",
   "id": "48042386",
   "metadata": {},
   "source": [
    "Reference:https://www.geeksforgeeks.org/create-a-pandas-dataframe-from-lists/"
   ]
  },
  {
   "cell_type": "code",
   "execution_count": 25,
   "id": "ebda8780-9bb2-4856-9bfa-c3578682b0b9",
   "metadata": {},
   "outputs": [],
   "source": [
    "scores_df={'model':methods,'fowlkes_score':fowlkes_mallow ,'silhouette_score':silhouette}"
   ]
  },
  {
   "cell_type": "code",
   "execution_count": 26,
   "id": "af8b287d-9228-421b-b2c9-f5ba63f3bbcc",
   "metadata": {},
   "outputs": [],
   "source": [
    "scored_df=pd.DataFrame(scores_df)"
   ]
  },
  {
   "cell_type": "code",
   "execution_count": 28,
   "id": "369ff469-dedd-41ca-a885-1b4ce677965c",
   "metadata": {},
   "outputs": [
    {
     "data": {
      "text/html": [
       "<div>\n",
       "<style scoped>\n",
       "    .dataframe tbody tr th:only-of-type {\n",
       "        vertical-align: middle;\n",
       "    }\n",
       "\n",
       "    .dataframe tbody tr th {\n",
       "        vertical-align: top;\n",
       "    }\n",
       "\n",
       "    .dataframe thead th {\n",
       "        text-align: right;\n",
       "    }\n",
       "</style>\n",
       "<table border=\"1\" class=\"dataframe\">\n",
       "  <thead>\n",
       "    <tr style=\"text-align: right;\">\n",
       "      <th></th>\n",
       "      <th>model</th>\n",
       "      <th>fowlkes_score</th>\n",
       "      <th>silhouette_score</th>\n",
       "    </tr>\n",
       "  </thead>\n",
       "  <tbody>\n",
       "    <tr>\n",
       "      <th>0</th>\n",
       "      <td>Kmean-init</td>\n",
       "      <td>0.291024</td>\n",
       "      <td>0.341904</td>\n",
       "    </tr>\n",
       "    <tr>\n",
       "      <th>1</th>\n",
       "      <td>kmeans++</td>\n",
       "      <td>0.290342</td>\n",
       "      <td>0.341737</td>\n",
       "    </tr>\n",
       "    <tr>\n",
       "      <th>2</th>\n",
       "      <td>spectral-clustering</td>\n",
       "      <td>0.316235</td>\n",
       "      <td>0.303841</td>\n",
       "    </tr>\n",
       "    <tr>\n",
       "      <th>3</th>\n",
       "      <td>bisectingkmeans</td>\n",
       "      <td>0.281432</td>\n",
       "      <td>0.283964</td>\n",
       "    </tr>\n",
       "    <tr>\n",
       "      <th>4</th>\n",
       "      <td>single</td>\n",
       "      <td>0.499392</td>\n",
       "      <td>0.135647</td>\n",
       "    </tr>\n",
       "    <tr>\n",
       "      <th>5</th>\n",
       "      <td>complete</td>\n",
       "      <td>0.279024</td>\n",
       "      <td>0.248104</td>\n",
       "    </tr>\n",
       "    <tr>\n",
       "      <th>6</th>\n",
       "      <td>average</td>\n",
       "      <td>0.388379</td>\n",
       "      <td>0.236351</td>\n",
       "    </tr>\n",
       "    <tr>\n",
       "      <th>7</th>\n",
       "      <td>ward</td>\n",
       "      <td>0.290948</td>\n",
       "      <td>0.286439</td>\n",
       "    </tr>\n",
       "    <tr>\n",
       "      <th>8</th>\n",
       "      <td>dbscan</td>\n",
       "      <td>0.321849</td>\n",
       "      <td>-0.164484</td>\n",
       "    </tr>\n",
       "  </tbody>\n",
       "</table>\n",
       "</div>"
      ],
      "text/plain": [
       "                 model  fowlkes_score  silhouette_score\n",
       "0           Kmean-init       0.291024          0.341904\n",
       "1             kmeans++       0.290342          0.341737\n",
       "2  spectral-clustering       0.316235          0.303841\n",
       "3      bisectingkmeans       0.281432          0.283964\n",
       "4               single       0.499392          0.135647\n",
       "5             complete       0.279024          0.248104\n",
       "6              average       0.388379          0.236351\n",
       "7                 ward       0.290948          0.286439\n",
       "8               dbscan       0.321849         -0.164484"
      ]
     },
     "execution_count": 28,
     "metadata": {},
     "output_type": "execute_result"
    }
   ],
   "source": [
    "scored_df"
   ]
  },
  {
   "cell_type": "markdown",
   "id": "54ae9501-7387-43fa-9409-4f5e2091d382",
   "metadata": {},
   "source": [
    "(c) Rank the methods from the best to the worst for our dataset based on Fowlkes-Mallows index.\n",
    "(0.5 point)\n"
   ]
  },
  {
   "cell_type": "code",
   "execution_count": 29,
   "id": "4d9d791f-44c3-44a4-876c-9259d3eb71de",
   "metadata": {},
   "outputs": [
    {
     "data": {
      "text/html": [
       "<div>\n",
       "<style scoped>\n",
       "    .dataframe tbody tr th:only-of-type {\n",
       "        vertical-align: middle;\n",
       "    }\n",
       "\n",
       "    .dataframe tbody tr th {\n",
       "        vertical-align: top;\n",
       "    }\n",
       "\n",
       "    .dataframe thead th {\n",
       "        text-align: right;\n",
       "    }\n",
       "</style>\n",
       "<table border=\"1\" class=\"dataframe\">\n",
       "  <thead>\n",
       "    <tr style=\"text-align: right;\">\n",
       "      <th></th>\n",
       "      <th>model</th>\n",
       "      <th>fowlkes_score</th>\n",
       "      <th>silhouette_score</th>\n",
       "    </tr>\n",
       "  </thead>\n",
       "  <tbody>\n",
       "    <tr>\n",
       "      <th>4</th>\n",
       "      <td>single</td>\n",
       "      <td>0.499392</td>\n",
       "      <td>0.135647</td>\n",
       "    </tr>\n",
       "    <tr>\n",
       "      <th>6</th>\n",
       "      <td>average</td>\n",
       "      <td>0.388379</td>\n",
       "      <td>0.236351</td>\n",
       "    </tr>\n",
       "    <tr>\n",
       "      <th>8</th>\n",
       "      <td>dbscan</td>\n",
       "      <td>0.321849</td>\n",
       "      <td>-0.164484</td>\n",
       "    </tr>\n",
       "    <tr>\n",
       "      <th>2</th>\n",
       "      <td>spectral-clustering</td>\n",
       "      <td>0.316235</td>\n",
       "      <td>0.303841</td>\n",
       "    </tr>\n",
       "    <tr>\n",
       "      <th>0</th>\n",
       "      <td>Kmean-init</td>\n",
       "      <td>0.291024</td>\n",
       "      <td>0.341904</td>\n",
       "    </tr>\n",
       "    <tr>\n",
       "      <th>7</th>\n",
       "      <td>ward</td>\n",
       "      <td>0.290948</td>\n",
       "      <td>0.286439</td>\n",
       "    </tr>\n",
       "    <tr>\n",
       "      <th>1</th>\n",
       "      <td>kmeans++</td>\n",
       "      <td>0.290342</td>\n",
       "      <td>0.341737</td>\n",
       "    </tr>\n",
       "    <tr>\n",
       "      <th>3</th>\n",
       "      <td>bisectingkmeans</td>\n",
       "      <td>0.281432</td>\n",
       "      <td>0.283964</td>\n",
       "    </tr>\n",
       "    <tr>\n",
       "      <th>5</th>\n",
       "      <td>complete</td>\n",
       "      <td>0.279024</td>\n",
       "      <td>0.248104</td>\n",
       "    </tr>\n",
       "  </tbody>\n",
       "</table>\n",
       "</div>"
      ],
      "text/plain": [
       "                 model  fowlkes_score  silhouette_score\n",
       "4               single       0.499392          0.135647\n",
       "6              average       0.388379          0.236351\n",
       "8               dbscan       0.321849         -0.164484\n",
       "2  spectral-clustering       0.316235          0.303841\n",
       "0           Kmean-init       0.291024          0.341904\n",
       "7                 ward       0.290948          0.286439\n",
       "1             kmeans++       0.290342          0.341737\n",
       "3      bisectingkmeans       0.281432          0.283964\n",
       "5             complete       0.279024          0.248104"
      ]
     },
     "execution_count": 29,
     "metadata": {},
     "output_type": "execute_result"
    }
   ],
   "source": [
    "scored_df.sort_values(by=\"fowlkes_score\",ascending=False)"
   ]
  },
  {
   "cell_type": "markdown",
   "id": "9b3b478c-a26d-4929-a6ff-1e8b365d9cf6",
   "metadata": {},
   "source": [
    "(d) Rank the methods from the best to the worst for our dataset based on Silhouette Coefficient.\n",
    "(0.5 point"
   ]
  },
  {
   "cell_type": "code",
   "execution_count": 30,
   "id": "7c0232e3-a593-4f70-8c51-5a2981287ae2",
   "metadata": {},
   "outputs": [
    {
     "data": {
      "text/html": [
       "<div>\n",
       "<style scoped>\n",
       "    .dataframe tbody tr th:only-of-type {\n",
       "        vertical-align: middle;\n",
       "    }\n",
       "\n",
       "    .dataframe tbody tr th {\n",
       "        vertical-align: top;\n",
       "    }\n",
       "\n",
       "    .dataframe thead th {\n",
       "        text-align: right;\n",
       "    }\n",
       "</style>\n",
       "<table border=\"1\" class=\"dataframe\">\n",
       "  <thead>\n",
       "    <tr style=\"text-align: right;\">\n",
       "      <th></th>\n",
       "      <th>model</th>\n",
       "      <th>fowlkes_score</th>\n",
       "      <th>silhouette_score</th>\n",
       "    </tr>\n",
       "  </thead>\n",
       "  <tbody>\n",
       "    <tr>\n",
       "      <th>0</th>\n",
       "      <td>Kmean-init</td>\n",
       "      <td>0.291024</td>\n",
       "      <td>0.341904</td>\n",
       "    </tr>\n",
       "    <tr>\n",
       "      <th>1</th>\n",
       "      <td>kmeans++</td>\n",
       "      <td>0.290342</td>\n",
       "      <td>0.341737</td>\n",
       "    </tr>\n",
       "    <tr>\n",
       "      <th>2</th>\n",
       "      <td>spectral-clustering</td>\n",
       "      <td>0.316235</td>\n",
       "      <td>0.303841</td>\n",
       "    </tr>\n",
       "    <tr>\n",
       "      <th>7</th>\n",
       "      <td>ward</td>\n",
       "      <td>0.290948</td>\n",
       "      <td>0.286439</td>\n",
       "    </tr>\n",
       "    <tr>\n",
       "      <th>3</th>\n",
       "      <td>bisectingkmeans</td>\n",
       "      <td>0.281432</td>\n",
       "      <td>0.283964</td>\n",
       "    </tr>\n",
       "    <tr>\n",
       "      <th>5</th>\n",
       "      <td>complete</td>\n",
       "      <td>0.279024</td>\n",
       "      <td>0.248104</td>\n",
       "    </tr>\n",
       "    <tr>\n",
       "      <th>6</th>\n",
       "      <td>average</td>\n",
       "      <td>0.388379</td>\n",
       "      <td>0.236351</td>\n",
       "    </tr>\n",
       "    <tr>\n",
       "      <th>4</th>\n",
       "      <td>single</td>\n",
       "      <td>0.499392</td>\n",
       "      <td>0.135647</td>\n",
       "    </tr>\n",
       "    <tr>\n",
       "      <th>8</th>\n",
       "      <td>dbscan</td>\n",
       "      <td>0.321849</td>\n",
       "      <td>-0.164484</td>\n",
       "    </tr>\n",
       "  </tbody>\n",
       "</table>\n",
       "</div>"
      ],
      "text/plain": [
       "                 model  fowlkes_score  silhouette_score\n",
       "0           Kmean-init       0.291024          0.341904\n",
       "1             kmeans++       0.290342          0.341737\n",
       "2  spectral-clustering       0.316235          0.303841\n",
       "7                 ward       0.290948          0.286439\n",
       "3      bisectingkmeans       0.281432          0.283964\n",
       "5             complete       0.279024          0.248104\n",
       "6              average       0.388379          0.236351\n",
       "4               single       0.499392          0.135647\n",
       "8               dbscan       0.321849         -0.164484"
      ]
     },
     "execution_count": 30,
     "metadata": {},
     "output_type": "execute_result"
    }
   ],
   "source": [
    "scored_df.sort_values(by=\"silhouette_score\",ascending=False)"
   ]
  },
  {
   "cell_type": "markdown",
   "id": "2e30bf6e-b4e9-4071-9999-2cb6d398520d",
   "metadata": {},
   "source": [
    "Reference: https://www.geeksforgeeks.org/create-a-pandas-dataframe-from-lists/\n",
    "\n",
    "    "
   ]
  },
  {
   "cell_type": "code",
   "execution_count": null,
   "id": "ae7362e6-7a0a-48f0-9acd-d82969e2719f",
   "metadata": {},
   "outputs": [],
   "source": []
  }
 ],
 "metadata": {
  "kernelspec": {
   "display_name": "Python 3 (ipykernel)",
   "language": "python",
   "name": "python3"
  },
  "language_info": {
   "codemirror_mode": {
    "name": "ipython",
    "version": 3
   },
   "file_extension": ".py",
   "mimetype": "text/x-python",
   "name": "python",
   "nbconvert_exporter": "python",
   "pygments_lexer": "ipython3",
   "version": "3.11.5"
  }
 },
 "nbformat": 4,
 "nbformat_minor": 5
}
