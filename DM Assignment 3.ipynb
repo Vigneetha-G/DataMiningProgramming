{
 "cells": [
  {
   "cell_type": "code",
   "execution_count": 3,
   "id": "137dee65",
   "metadata": {},
   "outputs": [],
   "source": [
    "import os\n",
    "import cv2\n",
    "import matplotlib.pyplot as plt\n",
    "from PIL import Image\n",
    "from skimage import io\n",
    "import numpy as np\n",
    "import pandas as pd\n",
    "from sklearn.preprocessing import LabelEncoder\n",
    "from sklearn.model_selection import train_test_split\n",
    "import seaborn as sns\n",
    "import random\n",
    "from mlxtend.preprocessing import TransactionEncoder\n",
    "from mlxtend.frequent_patterns import apriori, association_rules\n",
    "from tensorflow import keras\n",
    "from tensorflow.keras import layers\n",
    "import csv\n",
    "\n",
    "import warnings\n",
    "warnings.filterwarnings(\"ignore\")"
   ]
  },
  {
   "cell_type": "code",
   "execution_count": 2,
   "id": "5503a691",
   "metadata": {
    "scrolled": true
   },
   "outputs": [
    {
     "data": {
      "text/html": [
       "<div>\n",
       "<style scoped>\n",
       "    .dataframe tbody tr th:only-of-type {\n",
       "        vertical-align: middle;\n",
       "    }\n",
       "\n",
       "    .dataframe tbody tr th {\n",
       "        vertical-align: top;\n",
       "    }\n",
       "\n",
       "    .dataframe thead th {\n",
       "        text-align: right;\n",
       "    }\n",
       "</style>\n",
       "<table border=\"1\" class=\"dataframe\">\n",
       "  <thead>\n",
       "    <tr style=\"text-align: right;\">\n",
       "      <th></th>\n",
       "      <th>antecedents</th>\n",
       "      <th>consequents</th>\n",
       "      <th>antecedent support</th>\n",
       "      <th>consequent support</th>\n",
       "      <th>support</th>\n",
       "      <th>confidence</th>\n",
       "      <th>lift</th>\n",
       "      <th>leverage</th>\n",
       "      <th>conviction</th>\n",
       "    </tr>\n",
       "  </thead>\n",
       "  <tbody>\n",
       "    <tr>\n",
       "      <th>0</th>\n",
       "      <td>(other vegetables)</td>\n",
       "      <td>(whole milk)</td>\n",
       "      <td>0.121485</td>\n",
       "      <td>0.157105</td>\n",
       "      <td>0.013498</td>\n",
       "      <td>0.111111</td>\n",
       "      <td>0.707239</td>\n",
       "      <td>-0.005588</td>\n",
       "      <td>0.948256</td>\n",
       "    </tr>\n",
       "    <tr>\n",
       "      <th>1</th>\n",
       "      <td>(rolls/buns)</td>\n",
       "      <td>(whole milk)</td>\n",
       "      <td>0.113236</td>\n",
       "      <td>0.157105</td>\n",
       "      <td>0.013873</td>\n",
       "      <td>0.122517</td>\n",
       "      <td>0.779837</td>\n",
       "      <td>-0.003917</td>\n",
       "      <td>0.960582</td>\n",
       "    </tr>\n",
       "    <tr>\n",
       "      <th>2</th>\n",
       "      <td>(soda)</td>\n",
       "      <td>(whole milk)</td>\n",
       "      <td>0.094613</td>\n",
       "      <td>0.157105</td>\n",
       "      <td>0.011999</td>\n",
       "      <td>0.126816</td>\n",
       "      <td>0.807206</td>\n",
       "      <td>-0.002866</td>\n",
       "      <td>0.965312</td>\n",
       "    </tr>\n",
       "    <tr>\n",
       "      <th>3</th>\n",
       "      <td>(yogurt)</td>\n",
       "      <td>(whole milk)</td>\n",
       "      <td>0.090239</td>\n",
       "      <td>0.157105</td>\n",
       "      <td>0.012498</td>\n",
       "      <td>0.138504</td>\n",
       "      <td>0.881600</td>\n",
       "      <td>-0.001679</td>\n",
       "      <td>0.978408</td>\n",
       "    </tr>\n",
       "  </tbody>\n",
       "</table>\n",
       "</div>"
      ],
      "text/plain": [
       "          antecedents   consequents  antecedent support  consequent support  \\\n",
       "0  (other vegetables)  (whole milk)            0.121485            0.157105   \n",
       "1        (rolls/buns)  (whole milk)            0.113236            0.157105   \n",
       "2              (soda)  (whole milk)            0.094613            0.157105   \n",
       "3            (yogurt)  (whole milk)            0.090239            0.157105   \n",
       "\n",
       "    support  confidence      lift  leverage  conviction  \n",
       "0  0.013498    0.111111  0.707239 -0.005588    0.948256  \n",
       "1  0.013873    0.122517  0.779837 -0.003917    0.960582  \n",
       "2  0.011999    0.126816  0.807206 -0.002866    0.965312  \n",
       "3  0.012498    0.138504  0.881600 -0.001679    0.978408  "
      ]
     },
     "execution_count": 2,
     "metadata": {},
     "output_type": "execute_result"
    }
   ],
   "source": [
    "with open('Grocery_Items_17.csv', 'r') as file:\n",
    "    reader = csv.reader(file)\n",
    "    transactions = list(reader)\n",
    "\n",
    "# Remove empty strings and NaN values from transactions\n",
    "transactions = [[item for item in transaction if item not in [\"\", \"nan\", np.nan]] for transaction in transactions]\n",
    "\n",
    "TE = TransactionEncoder()\n",
    "TE_array = TE.fit(transactions).transform(transactions)\n",
    "grocery_df = pd.DataFrame(TE_array, columns=TE.columns_)\n",
    "\n",
    "#Using minimum support = 0.01 and minimum confidence threshold = 0.1, what are the association rules you can extract from your dataset? \n",
    "\n",
    "frequent_itemsets = apriori(grocery_df, min_support = 0.01, use_colnames = True)\n",
    "AR = association_rules(frequent_itemsets, metric = \"confidence\", min_threshold = 0.1)\n",
    "AR"
   ]
  },
  {
   "cell_type": "markdown",
   "id": "4a0e9fc6",
   "metadata": {},
   "source": [
    "References:http://rasbt.github.io/mlxtend/user_guide/frequent_patterns/apriori/"
   ]
  },
  {
   "cell_type": "code",
   "execution_count": 6,
   "id": "108506c6",
   "metadata": {},
   "outputs": [
    {
     "data": {
      "image/png": "[encoded data removed]",
      "text/plain": [
       "<Figure size 640x480 with 2 Axes>"
      ]
     },
     "metadata": {},
     "output_type": "display_data"
    }
   ],
   "source": [
    "# Use minimum support values (msv): 0.001, 0.005, 0.01, 0.05 and minimum confidence threshold\n",
    "#(mct): 0.05, 0.075, 0.1. For each pair (msv, mct), find the number of association rules extracted from\n",
    "#the dataset. Construct a heatmap using Seaborn data visualization library\n",
    "\n",
    "ARcount=[]\n",
    "msv=[]\n",
    "mct=[]\n",
    "for i in ( 0.001, 0.005, 0.01, 0.05):\n",
    "    frequent_itemsets = apriori(grocery_df,min_support = i,use_colnames = True)\n",
    "    for j in (0.05, 0.075, 0.1):\n",
    "        ar = association_rules(frequent_itemsets,metric = \"confidence\",min_threshold = j)\n",
    "        ARcount.append(len(ar))\n",
    "        msv.append(i)\n",
    "        mct.append(j)\n",
    "\n",
    "head_df = pd.DataFrame({'msv': msv, 'mct': mct, 'count': ARcount})\n",
    "\n",
    "sns.heatmap(head_df.pivot('mct','msv','count'), annot=True, cmap=\"Greens\", fmt='g')\n",
    "plt.show()\n",
    "\n",
    "        "
   ]
  },
  {
   "cell_type": "markdown",
   "id": "e7fb9536",
   "metadata": {},
   "source": [
    "References:https://seaborn.pydata.org/generated/seaborn.heatmap.html"
   ]
  },
  {
   "cell_type": "code",
   "execution_count": null,
   "id": "f6a41272",
   "metadata": {},
   "outputs": [],
   "source": []
  },
  {
   "cell_type": "code",
   "execution_count": 8,
   "id": "1bc0464e",
   "metadata": {},
   "outputs": [
    {
     "name": "stdout",
     "output_type": "stream",
     "text": [
      "0.17486338797814205\n"
     ]
    },
    {
     "data": {
      "text/html": [
       "<div>\n",
       "<style scoped>\n",
       "    .dataframe tbody tr th:only-of-type {\n",
       "        vertical-align: middle;\n",
       "    }\n",
       "\n",
       "    .dataframe tbody tr th {\n",
       "        vertical-align: top;\n",
       "    }\n",
       "\n",
       "    .dataframe thead th {\n",
       "        text-align: right;\n",
       "    }\n",
       "</style>\n",
       "<table border=\"1\" class=\"dataframe\">\n",
       "  <thead>\n",
       "    <tr style=\"text-align: right;\">\n",
       "      <th></th>\n",
       "      <th>antecedents</th>\n",
       "      <th>consequents</th>\n",
       "      <th>antecedent support</th>\n",
       "      <th>consequent support</th>\n",
       "      <th>support</th>\n",
       "      <th>confidence</th>\n",
       "      <th>lift</th>\n",
       "      <th>leverage</th>\n",
       "      <th>conviction</th>\n",
       "    </tr>\n",
       "  </thead>\n",
       "  <tbody>\n",
       "    <tr>\n",
       "      <th>3</th>\n",
       "      <td>(bottled beer)</td>\n",
       "      <td>(whole milk)</td>\n",
       "      <td>0.045744</td>\n",
       "      <td>0.157105</td>\n",
       "      <td>0.007999</td>\n",
       "      <td>0.174863</td>\n",
       "      <td>1.113033</td>\n",
       "      <td>0.000812</td>\n",
       "      <td>1.021521</td>\n",
       "    </tr>\n",
       "  </tbody>\n",
       "</table>\n",
       "</div>"
      ],
      "text/plain": [
       "      antecedents   consequents  antecedent support  consequent support  \\\n",
       "3  (bottled beer)  (whole milk)            0.045744            0.157105   \n",
       "\n",
       "    support  confidence      lift  leverage  conviction  \n",
       "3  0.007999    0.174863  1.113033  0.000812    1.021521  "
      ]
     },
     "execution_count": 8,
     "metadata": {},
     "output_type": "execute_result"
    }
   ],
   "source": [
    "#List the association rule(s) (i.e., one or more rules depending on your dataset) that have the highest\n",
    "#confidence for minimum support = 0.005. What is that confidence value?\n",
    "frequent_item = apriori(grocery_df, min_support=0.005, use_colnames=True)\n",
    "rules=association_rules(frequent_item,metric='confidence', min_threshold=0.0)\n",
    "high_confidence=rules['confidence'].max()\n",
    "print(high_confidence)\n",
    "rules[ (rules['confidence'] == high_confidence)]"
   ]
  },
  {
   "cell_type": "code",
   "execution_count": null,
   "id": "ab36e601",
   "metadata": {},
   "outputs": [],
   "source": []
  },
  {
   "cell_type": "code",
   "execution_count": 23,
   "id": "68ca1226",
   "metadata": {},
   "outputs": [
    {
     "name": "stdout",
     "output_type": "stream",
     "text": [
      "x_train shape: (552, 100, 100, 1)\n",
      "552 train samples\n",
      "138 test samples\n"
     ]
    }
   ],
   "source": [
    "# Model / data parameters\n",
    "num_classes = 4\n",
    "input_shape = (100, 100, 1)\n",
    "\n",
    "image_dir='DMresizedimages'\n",
    "def process_image(image_dir):\n",
    "    image = cv2.imread(image_dir, cv2.IMREAD_GRAYSCALE) \n",
    "    return image\n",
    "X = []  \n",
    "Y = []  \n",
    "for image_filename in os.listdir(image_dir):\n",
    "    if image_filename.endswith(\".jpg\"):\n",
    "        image_path = os.path.join(image_dir, image_filename)\n",
    "        class_name = image_filename.split('_')[0]\n",
    "        img = process_image(image_path)\n",
    "        Y.append(class_name)\n",
    "        X.append(img)\n",
    "X = np.array(X)\n",
    "Y = np.array(Y)\n",
    "label_encoder = LabelEncoder()\n",
    "Y_encoded = label_encoder.fit_transform(Y)\n",
    "\n",
    "x_train,x_test,y_train,y_test=train_test_split(X,Y_encoded,test_size=0.2,stratify=Y_encoded,random_state=42)\n",
    "\n",
    "# Scale images to the [0, 1] range\n",
    "x_train = x_train.astype(\"float32\") / 255\n",
    "x_test = x_test.astype(\"float32\") / 255\n",
    "# Make sure images have shape (28, 28, 1)\n",
    "x_train = np.expand_dims(x_train, -1)\n",
    "x_test = np.expand_dims(x_test, -1)\n",
    "print(\"x_train shape:\", x_train.shape)\n",
    "print(x_train.shape[0], \"train samples\")\n",
    "print(x_test.shape[0], \"test samples\")\n",
    "\n",
    "\n",
    "# convert class vectors to binary class matrices\n",
    "y_train = keras.utils.to_categorical(y_train, num_classes)\n",
    "y_test = keras.utils.to_categorical(y_test, num_classes)"
   ]
  },
  {
   "cell_type": "markdown",
   "id": "e7535c7e",
   "metadata": {},
   "source": [
    "References:https://keras.io/examples/vision/mnist_convnet/"
   ]
  },
  {
   "cell_type": "code",
   "execution_count": 24,
   "id": "fdf4d7f9",
   "metadata": {},
   "outputs": [
    {
     "name": "stdout",
     "output_type": "stream",
     "text": [
      "Model: \"sequential_1\"\n",
      "_________________________________________________________________\n",
      "Layer (type)                 Output Shape              Param #   \n",
      "=================================================================\n",
      "conv2d_1 (Conv2D)            (None, 98, 98, 8)         80        \n",
      "_________________________________________________________________\n",
      "max_pooling2d_1 (MaxPooling2 (None, 49, 49, 8)         0         \n",
      "_________________________________________________________________\n",
      "flatten_1 (Flatten)          (None, 19208)             0         \n",
      "_________________________________________________________________\n",
      "dense_2 (Dense)              (None, 16)                307344    \n",
      "_________________________________________________________________\n",
      "dense_3 (Dense)              (None, 4)                 68        \n",
      "=================================================================\n",
      "Total params: 307,492\n",
      "Trainable params: 307,492\n",
      "Non-trainable params: 0\n",
      "_________________________________________________________________\n"
     ]
    }
   ],
   "source": [
    "model = keras.Sequential(\n",
    "    [\n",
    "        keras.Input(shape=input_shape),\n",
    "        layers.Conv2D(8, kernel_size=(3, 3), activation=\"relu\"),\n",
    "        layers.MaxPooling2D(pool_size=(2, 2)),\n",
    "        layers.Flatten(),\n",
    "        layers.Dense(16,activation='relu'),\n",
    "        layers.Dense(num_classes, activation=\"softmax\"),\n",
    "    ]\n",
    ")\n",
    "\n",
    "model.summary()"
   ]
  },
  {
   "cell_type": "markdown",
   "id": "76f3bb56",
   "metadata": {},
   "source": [
    "References:https://keras.io/examples/vision/mnist_convnet/"
   ]
  },
  {
   "cell_type": "code",
   "execution_count": 26,
   "id": "9679a046",
   "metadata": {},
   "outputs": [
    {
     "name": "stdout",
     "output_type": "stream",
     "text": [
      "Train on 552 samples, validate on 138 samples\n",
      "Epoch 1/20\n",
      "552/552 [==============================] - 1s 2ms/sample - loss: 0.5655 - accuracy: 0.8460 - val_loss: 1.1196 - val_accuracy: 0.5290\n",
      "Epoch 2/20\n",
      "552/552 [==============================] - 1s 909us/sample - loss: 0.4899 - accuracy: 0.8967 - val_loss: 1.0898 - val_accuracy: 0.5507\n",
      "Epoch 3/20\n",
      "552/552 [==============================] - 1s 967us/sample - loss: 0.4413 - accuracy: 0.9384 - val_loss: 1.0868 - val_accuracy: 0.5507\n",
      "Epoch 4/20\n",
      "552/552 [==============================] - 1s 937us/sample - loss: 0.4137 - accuracy: 0.9312 - val_loss: 1.0799 - val_accuracy: 0.5870\n",
      "Epoch 5/20\n",
      "552/552 [==============================] - 1s 965us/sample - loss: 0.3612 - accuracy: 0.9402 - val_loss: 1.1067 - val_accuracy: 0.5435\n",
      "Epoch 6/20\n",
      "552/552 [==============================] - 1s 986us/sample - loss: 0.3429 - accuracy: 0.9475 - val_loss: 1.0996 - val_accuracy: 0.5580\n",
      "Epoch 7/20\n",
      "552/552 [==============================] - 1s 943us/sample - loss: 0.3019 - accuracy: 0.9674 - val_loss: 1.1270 - val_accuracy: 0.6014\n",
      "Epoch 8/20\n",
      "552/552 [==============================] - 1s 938us/sample - loss: 0.2648 - accuracy: 0.9692 - val_loss: 1.1005 - val_accuracy: 0.5725\n",
      "Epoch 9/20\n",
      "552/552 [==============================] - 1s 1ms/sample - loss: 0.2488 - accuracy: 0.9764 - val_loss: 1.1187 - val_accuracy: 0.5217\n",
      "Epoch 10/20\n",
      "552/552 [==============================] - 1s 963us/sample - loss: 0.2381 - accuracy: 0.9728 - val_loss: 1.1073 - val_accuracy: 0.5435\n",
      "Epoch 11/20\n",
      "552/552 [==============================] - 1s 968us/sample - loss: 0.2091 - accuracy: 0.9837 - val_loss: 1.1367 - val_accuracy: 0.6014\n",
      "Epoch 12/20\n",
      "552/552 [==============================] - 1s 966us/sample - loss: 0.1822 - accuracy: 0.9891 - val_loss: 1.1846 - val_accuracy: 0.5870\n",
      "Epoch 13/20\n",
      "552/552 [==============================] - 1s 1ms/sample - loss: 0.1635 - accuracy: 0.9891 - val_loss: 1.1817 - val_accuracy: 0.6087\n",
      "Epoch 14/20\n",
      "552/552 [==============================] - 1s 966us/sample - loss: 0.1417 - accuracy: 0.9928 - val_loss: 1.1507 - val_accuracy: 0.5942\n",
      "Epoch 15/20\n",
      "552/552 [==============================] - 1s 1ms/sample - loss: 0.1332 - accuracy: 0.9946 - val_loss: 1.1699 - val_accuracy: 0.5435\n",
      "Epoch 16/20\n",
      "552/552 [==============================] - 1s 971us/sample - loss: 0.1224 - accuracy: 0.9909 - val_loss: 1.1666 - val_accuracy: 0.5435\n",
      "Epoch 17/20\n",
      "552/552 [==============================] - 1s 967us/sample - loss: 0.1145 - accuracy: 0.9946 - val_loss: 1.2270 - val_accuracy: 0.5507\n",
      "Epoch 18/20\n",
      "552/552 [==============================] - 1s 1ms/sample - loss: 0.1120 - accuracy: 0.9964 - val_loss: 1.2451 - val_accuracy: 0.5942\n",
      "Epoch 19/20\n",
      "552/552 [==============================] - 1s 1ms/sample - loss: 0.0896 - accuracy: 1.0000 - val_loss: 1.2298 - val_accuracy: 0.5725\n",
      "Epoch 20/20\n",
      "552/552 [==============================] - 1s 983us/sample - loss: 0.0839 - accuracy: 0.9964 - val_loss: 1.1816 - val_accuracy: 0.5942\n"
     ]
    },
    {
     "data": {
      "text/plain": [
       "<tensorflow.python.keras.callbacks.History at 0x204bb845c48>"
      ]
     },
     "execution_count": 26,
     "metadata": {},
     "output_type": "execute_result"
    }
   ],
   "source": [
    "batch_size = 64\n",
    "epochs = 20\n",
    "\n",
    "model.compile(loss=\"categorical_crossentropy\", optimizer=\"adam\", metrics=[\"accuracy\"])\n",
    "\n",
    "model.fit(x_train, y_train, batch_size=batch_size, epochs=epochs, validation_data=(x_test,y_test))"
   ]
  },
  {
   "cell_type": "markdown",
   "id": "016207ec",
   "metadata": {},
   "source": [
    "References:https://keras.io/examples/vision/mnist_convnet/"
   ]
  },
  {
   "cell_type": "code",
   "execution_count": 27,
   "id": "6ecf69d3",
   "metadata": {},
   "outputs": [
    {
     "name": "stdout",
     "output_type": "stream",
     "text": [
      "Test loss: 1.1815785722456116\n",
      "Test accuracy: 0.5942029\n"
     ]
    }
   ],
   "source": [
    "score = model.evaluate(x_test, y_test, verbose=0)\n",
    "print(\"Test loss:\", score[0])\n",
    "print(\"Test accuracy:\", score[1])"
   ]
  },
  {
   "cell_type": "code",
   "execution_count": 28,
   "id": "10bd339c",
   "metadata": {},
   "outputs": [
    {
     "data": {
      "image/png": "[encoded data removed]",
      "text/plain": [
       "<Figure size 600x400 with 1 Axes>"
      ]
     },
     "metadata": {},
     "output_type": "display_data"
    }
   ],
   "source": [
    "plt.figure(figsize=(6,4))\n",
    "plt.plot(model.history.history['accuracy'],label='training')\n",
    "plt.plot(model.history.history['val_accuracy'],label='validation')\n",
    "plt.title('Accuracy of model')\n",
    "plt.show()"
   ]
  },
  {
   "cell_type": "markdown",
   "id": "08ccfe81",
   "metadata": {},
   "source": [
    "model overfit the data"
   ]
  },
  {
   "cell_type": "code",
   "execution_count": null,
   "id": "e724ea2c",
   "metadata": {},
   "outputs": [],
   "source": []
  },
  {
   "cell_type": "code",
   "execution_count": 29,
   "id": "0d810838",
   "metadata": {},
   "outputs": [
    {
     "name": "stdout",
     "output_type": "stream",
     "text": [
      "Model: \"sequential_2\"\n",
      "_________________________________________________________________\n",
      "Layer (type)                 Output Shape              Param #   \n",
      "=================================================================\n",
      "conv2d_2 (Conv2D)            (None, 96, 96, 8)         208       \n",
      "_________________________________________________________________\n",
      "max_pooling2d_2 (MaxPooling2 (None, 48, 48, 8)         0         \n",
      "_________________________________________________________________\n",
      "flatten_2 (Flatten)          (None, 18432)             0         \n",
      "_________________________________________________________________\n",
      "dense_4 (Dense)              (None, 16)                294928    \n",
      "_________________________________________________________________\n",
      "dense_5 (Dense)              (None, 4)                 68        \n",
      "=================================================================\n",
      "Total params: 295,204\n",
      "Trainable params: 295,204\n",
      "Non-trainable params: 0\n",
      "_________________________________________________________________\n",
      "Train on 552 samples, validate on 138 samples\n",
      "Epoch 1/20\n",
      "552/552 [==============================] - 2s 3ms/sample - loss: 1.4675 - accuracy: 0.2989 - val_loss: 1.4004 - val_accuracy: 0.2826\n",
      "Epoch 2/20\n",
      "552/552 [==============================] - 1s 1ms/sample - loss: 1.3750 - accuracy: 0.3406 - val_loss: 1.3767 - val_accuracy: 0.2464\n",
      "Epoch 3/20\n",
      "552/552 [==============================] - 1s 1ms/sample - loss: 1.3607 - accuracy: 0.3406 - val_loss: 1.3813 - val_accuracy: 0.3043\n",
      "Epoch 4/20\n",
      "552/552 [==============================] - 1s 1ms/sample - loss: 1.3405 - accuracy: 0.3424 - val_loss: 1.3669 - val_accuracy: 0.2971\n",
      "Epoch 5/20\n",
      "552/552 [==============================] - 1s 1ms/sample - loss: 1.3144 - accuracy: 0.3768 - val_loss: 1.3606 - val_accuracy: 0.2899\n",
      "Epoch 6/20\n",
      "552/552 [==============================] - 1s 1ms/sample - loss: 1.2886 - accuracy: 0.4149 - val_loss: 1.3578 - val_accuracy: 0.3116\n",
      "Epoch 7/20\n",
      "552/552 [==============================] - 1s 1ms/sample - loss: 1.2627 - accuracy: 0.4040 - val_loss: 1.3476 - val_accuracy: 0.2899\n",
      "Epoch 8/20\n",
      "552/552 [==============================] - 1s 1ms/sample - loss: 1.2332 - accuracy: 0.4438 - val_loss: 1.3405 - val_accuracy: 0.3043\n",
      "Epoch 9/20\n",
      "552/552 [==============================] - 1s 1ms/sample - loss: 1.2001 - accuracy: 0.4656 - val_loss: 1.3238 - val_accuracy: 0.2971\n",
      "Epoch 10/20\n",
      "552/552 [==============================] - 1s 1ms/sample - loss: 1.1683 - accuracy: 0.4493 - val_loss: 1.3075 - val_accuracy: 0.3116\n",
      "Epoch 11/20\n",
      "552/552 [==============================] - 1s 1ms/sample - loss: 1.1344 - accuracy: 0.4710 - val_loss: 1.3029 - val_accuracy: 0.3333\n",
      "Epoch 12/20\n",
      "552/552 [==============================] - 1s 1ms/sample - loss: 1.1094 - accuracy: 0.4746 - val_loss: 1.3400 - val_accuracy: 0.3333\n",
      "Epoch 13/20\n",
      "552/552 [==============================] - 1s 1ms/sample - loss: 1.0935 - accuracy: 0.4982 - val_loss: 1.3379 - val_accuracy: 0.3261\n",
      "Epoch 14/20\n",
      "552/552 [==============================] - 1s 1ms/sample - loss: 1.0588 - accuracy: 0.5181 - val_loss: 1.2957 - val_accuracy: 0.3478\n",
      "Epoch 15/20\n",
      "552/552 [==============================] - 1s 1ms/sample - loss: 1.0303 - accuracy: 0.5091 - val_loss: 1.2867 - val_accuracy: 0.3261\n",
      "Epoch 16/20\n",
      "552/552 [==============================] - 1s 1ms/sample - loss: 1.0065 - accuracy: 0.5290 - val_loss: 1.2987 - val_accuracy: 0.3551\n",
      "Epoch 17/20\n",
      "552/552 [==============================] - 1s 1ms/sample - loss: 0.9771 - accuracy: 0.5344 - val_loss: 1.2986 - val_accuracy: 0.3188\n",
      "Epoch 18/20\n",
      "552/552 [==============================] - 1s 1ms/sample - loss: 0.9457 - accuracy: 0.5453 - val_loss: 1.2904 - val_accuracy: 0.3333\n",
      "Epoch 19/20\n",
      "552/552 [==============================] - 1s 1ms/sample - loss: 0.9218 - accuracy: 0.5543 - val_loss: 1.3077 - val_accuracy: 0.3478\n",
      "Epoch 20/20\n",
      "552/552 [==============================] - 1s 1ms/sample - loss: 0.8988 - accuracy: 0.5525 - val_loss: 1.2827 - val_accuracy: 0.3696\n"
     ]
    },
    {
     "data": {
      "image/png": "[encoded data removed]",
      "text/plain": [
       "<Figure size 600x400 with 1 Axes>"
      ]
     },
     "metadata": {},
     "output_type": "display_data"
    }
   ],
   "source": [
    "#banner id: 916457963\n",
    "#Train the CNN using 2 other filter sizes: 5 × 5 and 7 × 7 for the convolution layer (i) with all other parameters unchanged\n",
    "#model with 5*5\n",
    "model = keras.Sequential(\n",
    "    [\n",
    "        keras.Input(shape=input_shape),\n",
    "        layers.Conv2D(8, kernel_size=(5, 5), activation=\"relu\"),\n",
    "        layers.MaxPooling2D(pool_size=(2, 2)),\n",
    "        layers.Flatten(),\n",
    "        layers.Dense(16,activation='relu'),\n",
    "        layers.Dense(num_classes, activation=\"softmax\"),\n",
    "    ]\n",
    ")\n",
    "\n",
    "model.summary()\n",
    "\n",
    "model.compile(loss=\"categorical_crossentropy\", optimizer=\"adam\", metrics=[\"accuracy\"])\n",
    "\n",
    "model.fit(x_train, y_train, batch_size=batch_size, epochs=epochs, validation_data=(x_test,y_test))\n",
    "\n",
    "plt.figure(figsize=(6,4))\n",
    "plt.plot(model.history.history['accuracy'],label='training')\n",
    "plt.plot(model.history.history['val_accuracy'],label='validation')\n",
    "plt.title('Accuracy of model 5*5 filter ')\n",
    "plt.show()"
   ]
  },
  {
   "cell_type": "markdown",
   "id": "4fb99e37",
   "metadata": {},
   "source": [
    "References:https://keras.io/examples/vision/mnist_convnet/"
   ]
  },
  {
   "cell_type": "markdown",
   "id": "62386a71",
   "metadata": {},
   "source": [
    "model overfit"
   ]
  },
  {
   "cell_type": "code",
   "execution_count": 30,
   "id": "314c2f02",
   "metadata": {},
   "outputs": [
    {
     "name": "stdout",
     "output_type": "stream",
     "text": [
      "Model: \"sequential_3\"\n",
      "_________________________________________________________________\n",
      "Layer (type)                 Output Shape              Param #   \n",
      "=================================================================\n",
      "conv2d_3 (Conv2D)            (None, 94, 94, 8)         400       \n",
      "_________________________________________________________________\n",
      "max_pooling2d_3 (MaxPooling2 (None, 47, 47, 8)         0         \n",
      "_________________________________________________________________\n",
      "flatten_3 (Flatten)          (None, 17672)             0         \n",
      "_________________________________________________________________\n",
      "dense_6 (Dense)              (None, 16)                282768    \n",
      "_________________________________________________________________\n",
      "dense_7 (Dense)              (None, 4)                 68        \n",
      "=================================================================\n",
      "Total params: 283,236\n",
      "Trainable params: 283,236\n",
      "Non-trainable params: 0\n",
      "_________________________________________________________________\n",
      "Train on 552 samples, validate on 138 samples\n",
      "Epoch 1/20\n",
      "552/552 [==============================] - 1s 2ms/sample - loss: 1.4480 - accuracy: 0.2355 - val_loss: 1.3829 - val_accuracy: 0.2246\n",
      "Epoch 2/20\n",
      "552/552 [==============================] - 1s 2ms/sample - loss: 1.3747 - accuracy: 0.2717 - val_loss: 1.3786 - val_accuracy: 0.2899\n",
      "Epoch 3/20\n",
      "552/552 [==============================] - 1s 2ms/sample - loss: 1.3638 - accuracy: 0.2862 - val_loss: 1.3727 - val_accuracy: 0.2826\n",
      "Epoch 4/20\n",
      "552/552 [==============================] - 1s 2ms/sample - loss: 1.3460 - accuracy: 0.3388 - val_loss: 1.3701 - val_accuracy: 0.2681\n",
      "Epoch 5/20\n",
      "552/552 [==============================] - 1s 2ms/sample - loss: 1.3239 - accuracy: 0.3388 - val_loss: 1.3603 - val_accuracy: 0.2754\n",
      "Epoch 6/20\n",
      "552/552 [==============================] - 1s 2ms/sample - loss: 1.2994 - accuracy: 0.3442 - val_loss: 1.3510 - val_accuracy: 0.2899\n",
      "Epoch 7/20\n",
      "552/552 [==============================] - 1s 2ms/sample - loss: 1.2813 - accuracy: 0.3551 - val_loss: 1.3397 - val_accuracy: 0.2971\n",
      "Epoch 8/20\n",
      "552/552 [==============================] - 1s 2ms/sample - loss: 1.2626 - accuracy: 0.4022 - val_loss: 1.3344 - val_accuracy: 0.2971\n",
      "Epoch 9/20\n",
      "552/552 [==============================] - 1s 2ms/sample - loss: 1.2394 - accuracy: 0.3877 - val_loss: 1.3203 - val_accuracy: 0.3188\n",
      "Epoch 10/20\n",
      "552/552 [==============================] - 1s 2ms/sample - loss: 1.2176 - accuracy: 0.3949 - val_loss: 1.3161 - val_accuracy: 0.3406\n",
      "Epoch 11/20\n",
      "552/552 [==============================] - 1s 2ms/sample - loss: 1.2084 - accuracy: 0.4022 - val_loss: 1.3177 - val_accuracy: 0.3116\n",
      "Epoch 12/20\n",
      "552/552 [==============================] - 1s 2ms/sample - loss: 1.1858 - accuracy: 0.4203 - val_loss: 1.3046 - val_accuracy: 0.3478\n",
      "Epoch 13/20\n",
      "552/552 [==============================] - 1s 2ms/sample - loss: 1.1748 - accuracy: 0.4275 - val_loss: 1.2942 - val_accuracy: 0.3623\n",
      "Epoch 14/20\n",
      "552/552 [==============================] - 1s 2ms/sample - loss: 1.1576 - accuracy: 0.4402 - val_loss: 1.2960 - val_accuracy: 0.3623\n",
      "Epoch 15/20\n",
      "552/552 [==============================] - 1s 2ms/sample - loss: 1.1437 - accuracy: 0.4438 - val_loss: 1.3001 - val_accuracy: 0.3333\n",
      "Epoch 16/20\n",
      "552/552 [==============================] - 1s 2ms/sample - loss: 1.1346 - accuracy: 0.4402 - val_loss: 1.2809 - val_accuracy: 0.3768\n",
      "Epoch 17/20\n",
      "552/552 [==============================] - 1s 2ms/sample - loss: 1.1463 - accuracy: 0.4565 - val_loss: 1.2762 - val_accuracy: 0.3768\n",
      "Epoch 18/20\n",
      "552/552 [==============================] - 1s 2ms/sample - loss: 1.1270 - accuracy: 0.4620 - val_loss: 1.2740 - val_accuracy: 0.3841\n",
      "Epoch 19/20\n",
      "552/552 [==============================] - 1s 2ms/sample - loss: 1.1151 - accuracy: 0.4638 - val_loss: 1.2702 - val_accuracy: 0.3696\n",
      "Epoch 20/20\n",
      "552/552 [==============================] - 1s 2ms/sample - loss: 1.0954 - accuracy: 0.4692 - val_loss: 1.2882 - val_accuracy: 0.3406\n"
     ]
    },
    {
     "data": {
      "image/png": "[encoded data removed]",
      "text/plain": [
       "<Figure size 600x400 with 1 Axes>"
      ]
     },
     "metadata": {},
     "output_type": "display_data"
    }
   ],
   "source": [
    "#model with 7*7\n",
    "model = keras.Sequential(\n",
    "    [\n",
    "        keras.Input(shape=input_shape),\n",
    "        layers.Conv2D(8, kernel_size=(7, 7), activation=\"relu\"),\n",
    "        layers.MaxPooling2D(pool_size=(2, 2)),\n",
    "        layers.Flatten(),\n",
    "        layers.Dense(16,activation='relu'),\n",
    "        layers.Dense(num_classes, activation=\"softmax\"),\n",
    "    ]\n",
    ")\n",
    "\n",
    "model.summary()\n",
    "\n",
    "model.compile(loss=\"categorical_crossentropy\", optimizer=\"adam\", metrics=[\"accuracy\"])\n",
    "\n",
    "model.fit(x_train, y_train, batch_size=batch_size, epochs=epochs, validation_data=(x_test,y_test))\n",
    "\n",
    "plt.figure(figsize=(6,4))\n",
    "plt.plot(model.history.history['accuracy'],label='training')\n",
    "plt.plot(model.history.history['val_accuracy'],label='validation')\n",
    "plt.title('Accuracy of model 7*7 filter ')\n",
    "plt.show()"
   ]
  },
  {
   "cell_type": "markdown",
   "id": "019fc7c3",
   "metadata": {},
   "source": [
    "References:https://keras.io/examples/vision/mnist_convnet/"
   ]
  },
  {
   "cell_type": "markdown",
   "id": "025f2a17",
   "metadata": {},
   "source": [
    "model overfit"
   ]
  },
  {
   "cell_type": "code",
   "execution_count": null,
   "id": "bad88e05",
   "metadata": {},
   "outputs": [],
   "source": []
  }
 ],
 "metadata": {
  "kernelspec": {
   "display_name": "Python 3 (ipykernel)",
   "language": "python",
   "name": "python3"
  },
  "language_info": {
   "codemirror_mode": {
    "name": "ipython",
    "version": 3
   },
   "file_extension": ".py",
   "mimetype": "text/x-python",
   "name": "python",
   "nbconvert_exporter": "python",
   "pygments_lexer": "ipython3",
   "version": "3.11.5"
  }
 },
 "nbformat": 4,
 "nbformat_minor": 5
}
